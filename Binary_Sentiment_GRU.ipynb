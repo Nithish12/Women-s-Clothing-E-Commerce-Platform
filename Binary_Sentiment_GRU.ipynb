{
  "cells": [
    {
      "cell_type": "code",
      "execution_count": null,
      "metadata": {
        "id": "kfiaDnaJZRuT"
      },
      "outputs": [],
      "source": [
        "import pandas as pd\n",
        "import numpy as np\n",
        "import matplotlib.pyplot as plt\n",
        "import seaborn as sns\n",
        "import gensim\n",
        "from gensim.models import Word2Vec, KeyedVectors\n",
        "import warnings\n",
        "warnings.filterwarnings('ignore')"
      ]
    },
    {
      "cell_type": "code",
      "execution_count": null,
      "metadata": {
        "id": "YhObM-DO9To_"
      },
      "outputs": [],
      "source": [
        "data = pd.read_excel(\"Womens Clothing Reviews Data.xlsx\")"
      ]
    },
    {
      "cell_type": "code",
      "execution_count": null,
      "metadata": {
        "id": "_KjxQik09Zef"
      },
      "outputs": [],
      "source": [
        "data = data.drop(columns = ['Product ID','Category','Subcategory1','SubCategory2','Location','Channel','Customer Age','Review Title', 'Recommend Flag', 'Rating'])"
      ]
    },
    {
      "cell_type": "code",
      "execution_count": null,
      "metadata": {
        "id": "rTrVC91swAEC"
      },
      "outputs": [],
      "source": [
        "data = data.dropna()"
      ]
    },
    {
      "cell_type": "code",
      "execution_count": null,
      "metadata": {
        "id": "2901c4c2"
      },
      "outputs": [],
      "source": [
        "#Sentiment Analysis by using SentimentIntensityAnalyzer\n",
        "from nltk.sentiment.vader import SentimentIntensityAnalyzer\n",
        "sent = SentimentIntensityAnalyzer()\n",
        "polarity = [sent.polarity_scores(i)['compound'] for i in data['Review Text']]\n",
        "data['sentiment_score'] = polarity"
      ]
    },
    {
      "cell_type": "code",
      "execution_count": null,
      "metadata": {
        "id": "6cefPhPMwAED"
      },
      "outputs": [],
      "source": [
        "data['sentiment'] = data['sentiment_score'].apply(lambda x:1 if x>0.5 else 0)"
      ]
    },
    {
      "cell_type": "code",
      "execution_count": null,
      "metadata": {
        "id": "-RtFmcP5wAED"
      },
      "outputs": [],
      "source": [
        "data = data.drop(columns = ['sentiment_score'])"
      ]
    },
    {
      "cell_type": "code",
      "execution_count": null,
      "metadata": {
        "colab": {
          "base_uri": "https://localhost:8080/",
          "height": 423
        },
        "id": "jE1rM90y9b_h",
        "outputId": "a866f8f8-06a5-4e51-b4e9-38c244040a76"
      },
      "outputs": [
        {
          "data": {
            "text/html": [
              "<div>\n",
              "<style scoped>\n",
              "    .dataframe tbody tr th:only-of-type {\n",
              "        vertical-align: middle;\n",
              "    }\n",
              "\n",
              "    .dataframe tbody tr th {\n",
              "        vertical-align: top;\n",
              "    }\n",
              "\n",
              "    .dataframe thead th {\n",
              "        text-align: right;\n",
              "    }\n",
              "</style>\n",
              "<table border=\"1\" class=\"dataframe\">\n",
              "  <thead>\n",
              "    <tr style=\"text-align: right;\">\n",
              "      <th></th>\n",
              "      <th>Review Text</th>\n",
              "      <th>sentiment</th>\n",
              "    </tr>\n",
              "  </thead>\n",
              "  <tbody>\n",
              "    <tr>\n",
              "      <th>0</th>\n",
              "      <td>Absolutely wonderful - silky and sexy and comf...</td>\n",
              "      <td>1</td>\n",
              "    </tr>\n",
              "    <tr>\n",
              "      <th>1</th>\n",
              "      <td>Love this dress!  it's sooo pretty.  i happene...</td>\n",
              "      <td>1</td>\n",
              "    </tr>\n",
              "    <tr>\n",
              "      <th>2</th>\n",
              "      <td>I had such high hopes for this dress and reall...</td>\n",
              "      <td>1</td>\n",
              "    </tr>\n",
              "    <tr>\n",
              "      <th>3</th>\n",
              "      <td>I love, love, love this jumpsuit. it's fun, fl...</td>\n",
              "      <td>1</td>\n",
              "    </tr>\n",
              "    <tr>\n",
              "      <th>4</th>\n",
              "      <td>This shirt is very flattering to all due to th...</td>\n",
              "      <td>1</td>\n",
              "    </tr>\n",
              "    <tr>\n",
              "      <th>...</th>\n",
              "      <td>...</td>\n",
              "      <td>...</td>\n",
              "    </tr>\n",
              "    <tr>\n",
              "      <th>23481</th>\n",
              "      <td>I was very happy to snag this dress at such a ...</td>\n",
              "      <td>1</td>\n",
              "    </tr>\n",
              "    <tr>\n",
              "      <th>23482</th>\n",
              "      <td>It reminds me of maternity clothes. soft, stre...</td>\n",
              "      <td>1</td>\n",
              "    </tr>\n",
              "    <tr>\n",
              "      <th>23483</th>\n",
              "      <td>This fit well, but the top was very see throug...</td>\n",
              "      <td>1</td>\n",
              "    </tr>\n",
              "    <tr>\n",
              "      <th>23484</th>\n",
              "      <td>I bought this dress for a wedding i have this ...</td>\n",
              "      <td>1</td>\n",
              "    </tr>\n",
              "    <tr>\n",
              "      <th>23485</th>\n",
              "      <td>This dress in a lovely platinum is feminine an...</td>\n",
              "      <td>1</td>\n",
              "    </tr>\n",
              "  </tbody>\n",
              "</table>\n",
              "<p>22641 rows × 2 columns</p>\n",
              "</div>"
            ],
            "text/plain": [
              "                                             Review Text  sentiment\n",
              "0      Absolutely wonderful - silky and sexy and comf...          1\n",
              "1      Love this dress!  it's sooo pretty.  i happene...          1\n",
              "2      I had such high hopes for this dress and reall...          1\n",
              "3      I love, love, love this jumpsuit. it's fun, fl...          1\n",
              "4      This shirt is very flattering to all due to th...          1\n",
              "...                                                  ...        ...\n",
              "23481  I was very happy to snag this dress at such a ...          1\n",
              "23482  It reminds me of maternity clothes. soft, stre...          1\n",
              "23483  This fit well, but the top was very see throug...          1\n",
              "23484  I bought this dress for a wedding i have this ...          1\n",
              "23485  This dress in a lovely platinum is feminine an...          1\n",
              "\n",
              "[22641 rows x 2 columns]"
            ]
          },
          "execution_count": 15,
          "metadata": {},
          "output_type": "execute_result"
        }
      ],
      "source": [
        "data"
      ]
    },
    {
      "cell_type": "code",
      "execution_count": null,
      "metadata": {
        "colab": {
          "base_uri": "https://localhost:8080/"
        },
        "id": "xrchHbHL-4q3",
        "outputId": "f92dc93b-3128-430d-9dc9-042c61594a74"
      },
      "outputs": [
        {
          "name": "stderr",
          "output_type": "stream",
          "text": [
            "[nltk_data] Downloading package stopwords to\n",
            "[nltk_data]     C:\\Users\\ysnit\\AppData\\Roaming\\nltk_data...\n",
            "[nltk_data]   Package stopwords is already up-to-date!\n",
            "[nltk_data] Downloading package wordnet to\n",
            "[nltk_data]     C:\\Users\\ysnit\\AppData\\Roaming\\nltk_data...\n",
            "[nltk_data]   Package wordnet is already up-to-date!\n"
          ]
        }
      ],
      "source": [
        "import re\n",
        "import nltk\n",
        "nltk.download('stopwords')\n",
        "nltk.download('wordnet')\n",
        "from nltk.corpus import stopwords"
      ]
    },
    {
      "cell_type": "code",
      "execution_count": null,
      "metadata": {
        "id": "wKGVWJRXDuq9"
      },
      "outputs": [],
      "source": [
        "# Importing pytorch libraries\n",
        "import torch\n",
        "import torch.nn as nn\n",
        "import torch.optim as optim\n",
        "from sklearn.model_selection import train_test_split\n",
        "from nltk.tokenize import word_tokenize\n",
        "from nltk.stem import WordNetLemmatizer\n",
        "from torch.utils.data import DataLoader, TensorDataset, random_split\n",
        "from torch.nn.utils.rnn import pad_sequence\n",
        "import string"
      ]
    },
    {
      "cell_type": "code",
      "execution_count": null,
      "metadata": {
        "id": "yNURpuHTwAEG"
      },
      "outputs": [],
      "source": [
        "lemmatizer = WordNetLemmatizer()\n",
        "stop_words = set(stopwords.words('english'))\n",
        "\n",
        "def preprocess(text):\n",
        "    text = re.sub(r'[^\\w\\s]', '', str(text).lower())\n",
        "    tokens = word_tokenize(text)\n",
        "    return [lemmatizer.lemmatize(w) for w in tokens if w not in stop_words]\n",
        "\n",
        "data['processed'] = data['Review Text'].apply(preprocess)"
      ]
    },
    {
      "cell_type": "code",
      "execution_count": null,
      "metadata": {
        "id": "bjj4Hs0ZwAEH",
        "outputId": "bc33f3dd-a974-447e-fc82-6474b84b6b9e"
      },
      "outputs": [
        {
          "data": {
            "text/plain": [
              "device(type='cuda')"
            ]
          },
          "execution_count": 19,
          "metadata": {},
          "output_type": "execute_result"
        }
      ],
      "source": [
        "device = torch.device(\"cuda\" if torch.cuda.is_available() else \"cpu\")\n",
        "device"
      ]
    },
    {
      "cell_type": "code",
      "execution_count": null,
      "metadata": {
        "id": "30OBbx4rwAEH"
      },
      "outputs": [],
      "source": [
        "# === 3. Train Word2Vec and Convert to Sequences ===\n",
        "def train_word2vec(corpus, vector_size=100):\n",
        "    return Word2Vec(sentences=corpus, vector_size=vector_size, window=5, min_count=2, workers=4)\n",
        "\n",
        "w2v_model = train_word2vec(data['processed'].tolist())\n",
        "pretrained_embeddings = w2v_model.wv.vectors\n",
        "embedding_dim = pretrained_embeddings.shape[1]\n",
        "vocab_size = pretrained_embeddings.shape[0]\n",
        "word2idx = w2v_model.wv.key_to_index\n"
      ]
    },
    {
      "cell_type": "code",
      "execution_count": null,
      "metadata": {
        "id": "IVHVE7RswAEI"
      },
      "outputs": [],
      "source": [
        "# Padding Sequences\n",
        "def texts_to_sequences(texts, word2idx):\n",
        "    return [[word2idx[word] for word in text if word in word2idx] for text in texts]\n",
        "\n",
        "sequences = texts_to_sequences(data['processed'], word2idx)\n",
        "sequences_padded = pad_sequence([torch.tensor(seq) for seq in sequences], batch_first=True, padding_value=0).to(device)\n",
        "labels = torch.tensor(data['sentiment'], dtype=torch.long).to(device)"
      ]
    },
    {
      "cell_type": "code",
      "execution_count": null,
      "metadata": {
        "id": "jDzqd1iywAEI"
      },
      "outputs": [],
      "source": [
        "# === 4. Dataset and Dataloaders ===\n",
        "dataset = TensorDataset(sequences_padded, labels)\n",
        "train_len = int(0.8 * len(dataset))\n",
        "test_len = len(dataset) - train_len\n",
        "train_ds, test_ds = random_split(dataset, [train_len, test_len])\n",
        "\n",
        "train_loader = DataLoader(train_ds, batch_size=32, shuffle=True)\n",
        "test_loader = DataLoader(test_ds, batch_size=32)"
      ]
    },
    {
      "cell_type": "code",
      "execution_count": null,
      "metadata": {
        "id": "hws_H_t8wAEJ"
      },
      "outputs": [],
      "source": [
        "# === 5. GRU Model Definition ===\n",
        "class GRUModel(nn.Module):\n",
        "    def __init__(self, vocab_size, embedding_dim, hidden_size=128, num_layers=2, pretrained_embeddings=None):\n",
        "        super().__init__()\n",
        "        self.embedding = nn.Embedding(vocab_size, embedding_dim, padding_idx=0)\n",
        "\n",
        "        if pretrained_embeddings is not None:\n",
        "            self.embedding.weight.data.copy_(torch.tensor(pretrained_embeddings))\n",
        "            self.embedding.weight.requires_grad = True\n",
        "\n",
        "        self.gru = nn.GRU(embedding_dim, hidden_size, num_layers, batch_first=True, bidirectional=True, dropout=0.3)\n",
        "\n",
        "        # Attention mechanism\n",
        "        self.attention = nn.Sequential(\n",
        "            nn.Linear(hidden_size * 2, hidden_size),\n",
        "            nn.Tanh(),\n",
        "            nn.Linear(hidden_size, 1),\n",
        "            nn.Softmax(dim=1)\n",
        "        )\n",
        "\n",
        "        self.fc = nn.Linear(hidden_size * 2, 2)  # Binary classification\n",
        "        self.dropout = nn.Dropout(0.5)\n",
        "        self.norm = nn.LayerNorm(hidden_size * 2)\n",
        "\n",
        "    def forward(self, x):\n",
        "        x = x.long()\n",
        "        x = self.embedding(x)\n",
        "\n",
        "        # Create initial hidden state\n",
        "        h0 = torch.zeros(self.gru.num_layers * 2, x.size(0), self.gru.hidden_size).to(x.device)\n",
        "        out, _ = self.gru(x, h0)\n",
        "\n",
        "        # Apply attention mechanism instead of just taking the last hidden state\n",
        "        attention_weights = self.attention(out)\n",
        "        context_vector = torch.sum(attention_weights * out, dim=1)\n",
        "\n",
        "        # Apply normalization and dropout\n",
        "        context_vector = self.norm(self.dropout(context_vector))\n",
        "\n",
        "        # Final classification layer\n",
        "        logits = self.fc(context_vector)\n",
        "        return logits"
      ]
    },
    {
      "cell_type": "code",
      "execution_count": null,
      "metadata": {
        "id": "cQbd_ljcwAEJ"
      },
      "outputs": [],
      "source": [
        "# Hyperparameters for model\n",
        "def initialize_model(vocab_size, embedding_dim, pretrained_embeddings):\n",
        "    # Consistent hyperparameters\n",
        "    hidden_size = 128\n",
        "    num_layers = 2  # Make sure this matches what's used in the model constructor\n",
        "\n",
        "    model = GRUModel(\n",
        "        vocab_size=vocab_size,\n",
        "        embedding_dim=embedding_dim,\n",
        "        hidden_size=hidden_size,\n",
        "        num_layers=num_layers,\n",
        "        pretrained_embeddings=pretrained_embeddings\n",
        "    ).to(device)\n",
        "\n",
        "    return model\n"
      ]
    },
    {
      "cell_type": "code",
      "execution_count": null,
      "metadata": {
        "id": "jETW7wE8wAEK"
      },
      "outputs": [],
      "source": [
        "import os\n",
        "os.environ['CUDA_LAUNCH_BLOCKING'] = '1'\n",
        "os.environ['TORCH_USE_CUDA_DSA'] = '1'"
      ]
    },
    {
      "cell_type": "code",
      "execution_count": null,
      "metadata": {
        "id": "STMNX8GewAEK"
      },
      "outputs": [],
      "source": [
        "# === 6. Train the Model ===\n",
        "# === 3. IMPROVED TRAINING FUNCTION ===\n",
        "def train_model(model, train_loader, test_loader, epochs=20, lr=0.0005):\n",
        "    criterion = nn.CrossEntropyLoss()\n",
        "    optimizer = optim.AdamW(model.parameters(), lr=lr, weight_decay=1e-4)  # Changed to AdamW with better weight decay\n",
        "\n",
        "    # More effective learning rate scheduler\n",
        "    scheduler = torch.optim.lr_scheduler.ReduceLROnPlateau(\n",
        "        optimizer, mode='min', factor=0.5, patience=2, verbose=True\n",
        "    )\n",
        "\n",
        "    # Better early stopping with more patience\n",
        "    patience = 5  # Increased from 3\n",
        "    wait = 0  # Initialize the wait variable\n",
        "    best_val_loss = float('inf')\n",
        "    best_model_state = None\n",
        "\n",
        "    train_losses, test_losses = [], []\n",
        "    train_accs, test_accs = [], []\n",
        "\n",
        "    for epoch in range(epochs):\n",
        "        model.train()\n",
        "        train_loss, train_correct, train_total = 0, 0, 0\n",
        "\n",
        "        for x, y in train_loader:\n",
        "            x, y = x.to(device), y.to(device)\n",
        "            optimizer.zero_grad()\n",
        "            out = model(x)\n",
        "            loss = criterion(out, y)\n",
        "            loss.backward()\n",
        "\n",
        "            # Gradient clipping to prevent exploding gradients\n",
        "            torch.nn.utils.clip_grad_norm_(model.parameters(), max_norm=1.0)\n",
        "\n",
        "            optimizer.step()\n",
        "            train_loss += loss.item()\n",
        "            _, pred = out.max(1)\n",
        "            train_correct += (pred == y).sum().item()\n",
        "            train_total += y.size(0)\n",
        "\n",
        "        model.eval()\n",
        "        test_loss, test_correct, test_total = 0, 0, 0\n",
        "        with torch.no_grad():\n",
        "            for x, y in test_loader:\n",
        "                x, y = x.to(device), y.to(device)\n",
        "                out = model(x)\n",
        "                loss = criterion(out, y)\n",
        "                test_loss += loss.item()\n",
        "                _, pred = out.max(1)\n",
        "                test_correct += (pred == y).sum().item()\n",
        "                test_total += y.size(0)\n",
        "\n",
        "        avg_train_loss = train_loss / len(train_loader)\n",
        "        avg_test_loss = test_loss / len(test_loader)\n",
        "        train_acc = 100 * train_correct / train_total\n",
        "        test_acc = 100 * test_correct / test_total\n",
        "\n",
        "        # Store metrics for plotting\n",
        "        train_losses.append(avg_train_loss)\n",
        "        test_losses.append(avg_test_loss)\n",
        "        train_accs.append(train_acc)\n",
        "        test_accs.append(test_acc)\n",
        "\n",
        "        # Update scheduler\n",
        "        scheduler.step(avg_test_loss)\n",
        "\n",
        "        print(f\"Epoch {epoch+1:03d} | Train Loss: {avg_train_loss:.4f} | Test Loss: {avg_test_loss:.4f} | \"\n",
        "              f\"Train Acc: {train_acc:.2f}% | Test Acc: {test_acc:.2f}% | LR: {optimizer.param_groups[0]['lr']:.6f}\")\n",
        "\n",
        "        # Early stopping logic with model saving\n",
        "        improved = avg_test_loss < best_val_loss\n",
        "        if improved:\n",
        "            best_val_loss = avg_test_loss\n",
        "            best_model_state = model.state_dict().copy()\n",
        "            wait = 0\n",
        "            print(f\"✓ New best model saved (loss: {best_val_loss:.4f})\")\n",
        "        else:\n",
        "            wait += 1\n",
        "            print(f\"◌ No improvement for {wait}/{patience} epochs\")\n",
        "\n",
        "        if wait >= patience:\n",
        "            print(f\"\\n Early stopping at epoch {epoch+1}. No improvement for {patience} epochs.\")\n",
        "            break\n"
      ]
    },
    {
      "cell_type": "code",
      "execution_count": null,
      "metadata": {
        "id": "_aGHXwAvwAEL",
        "outputId": "e7ac4822-c428-482a-bbee-558c467032aa"
      },
      "outputs": [
        {
          "name": "stdout",
          "output_type": "stream",
          "text": [
            "Epoch 001 | Train Loss: 0.3281 | Test Loss: 0.2996 | Train Acc: 86.29% | Test Acc: 88.08% | LR: 0.000500\n",
            "✓ New best model saved (loss: 0.2996)\n",
            "Epoch 002 | Train Loss: 0.2733 | Test Loss: 0.2886 | Train Acc: 88.43% | Test Acc: 89.20% | LR: 0.000500\n",
            "✓ New best model saved (loss: 0.2886)\n",
            "Epoch 003 | Train Loss: 0.2314 | Test Loss: 0.2993 | Train Acc: 90.64% | Test Acc: 87.26% | LR: 0.000500\n",
            "◌ No improvement for 1/5 epochs\n",
            "Epoch 004 | Train Loss: 0.1924 | Test Loss: 0.3228 | Train Acc: 92.31% | Test Acc: 89.87% | LR: 0.000500\n",
            "◌ No improvement for 2/5 epochs\n",
            "Epoch 005 | Train Loss: 0.1505 | Test Loss: 0.3715 | Train Acc: 94.21% | Test Acc: 88.81% | LR: 0.000250\n",
            "◌ No improvement for 3/5 epochs\n",
            "Epoch 006 | Train Loss: 0.1055 | Test Loss: 0.4551 | Train Acc: 96.15% | Test Acc: 89.58% | LR: 0.000250\n",
            "◌ No improvement for 4/5 epochs\n",
            "Epoch 007 | Train Loss: 0.0854 | Test Loss: 0.5357 | Train Acc: 97.04% | Test Acc: 89.11% | LR: 0.000250\n",
            "◌ No improvement for 5/5 epochs\n",
            "\n",
            "⚠️ Early stopping at epoch 7. No improvement for 5 epochs.\n"
          ]
        }
      ],
      "source": [
        "# === 7. Initialize and Train ===\n",
        "model = GRUModel(vocab_size, embedding_dim, pretrained_embeddings=pretrained_embeddings).to(device)\n",
        "train_model(model, train_loader, test_loader, epochs=20, lr=0.0005)\n"
      ]
    },
    {
      "cell_type": "code",
      "execution_count": null,
      "metadata": {
        "id": "0wWqgyeBwAEM",
        "outputId": "ac625d87-78df-405b-a928-7daba4e09f1d"
      },
      "outputs": [
        {
          "data": {
            "image/png": "[encoded data removed]",
            "text/plain": [
              "<Figure size 800x600 with 2 Axes>"
            ]
          },
          "metadata": {},
          "output_type": "display_data"
        }
      ],
      "source": [
        "model.eval()\n",
        "y_true, y_pred = [], []\n",
        "\n",
        "with torch.no_grad():\n",
        "    for x, y in test_loader:\n",
        "        x, y = x.to(device), y.to(device)\n",
        "        outputs = model(x)\n",
        "        _, preds = torch.max(outputs, 1)\n",
        "\n",
        "        y_true.extend(y.cpu().numpy())\n",
        "        y_pred.extend(preds.cpu().numpy())\n",
        "\n",
        "# Now the confusion matrix code will work\n",
        "from sklearn.metrics import confusion_matrix\n",
        "cm = confusion_matrix(y_true, y_pred)\n",
        "plt.figure(figsize=(8, 6))\n",
        "sns.heatmap(cm, annot=True, fmt='d', cmap='Blues',\n",
        "            xticklabels=['Negative', 'Positive'],\n",
        "            yticklabels=['Negative', 'Positive'])\n",
        "plt.xlabel('Predicted')\n",
        "plt.ylabel('True')\n",
        "plt.title('Confusion Matrix')\n",
        "plt.show()"
      ]
    },
    {
      "cell_type": "code",
      "execution_count": null,
      "metadata": {
        "id": "sl2DqEhZwAEM"
      },
      "outputs": [],
      "source": [
        "# === 7. INFERENCE FUNCTION ===\n",
        "# Add this function to make predictions on new text\n",
        "def predict_sentiment(model, text, word2idx, preprocess_fn):\n",
        "    model.eval()\n",
        "\n",
        "    # Preprocess the text\n",
        "    tokens = preprocess_fn(text)\n",
        "\n",
        "    # Convert to sequence\n",
        "    sequence = [word2idx[word] for word in tokens if word in word2idx]\n",
        "\n",
        "    # Handle empty sequence\n",
        "    if not sequence:\n",
        "        return \"Unable to predict (no recognized words)\"\n",
        "\n",
        "    # Create tensor and add batch dimension\n",
        "    tensor = torch.tensor([sequence]).to(device)\n",
        "\n",
        "    # Get prediction\n",
        "    with torch.no_grad():\n",
        "        output = model(tensor)\n",
        "        probabilities = torch.nn.functional.softmax(output, dim=1)\n",
        "        prediction = torch.argmax(output, dim=1).item()\n",
        "\n",
        "    sentiment = \"Positive\" if prediction == 1 else \"Negative\"\n",
        "    confidence = probabilities[0][prediction].item() * 100\n",
        "\n",
        "    return f\"Sentiment: {sentiment} (Confidence: {confidence:.2f}%)\""
      ]
    },
    {
      "cell_type": "code",
      "execution_count": null,
      "metadata": {
        "id": "m0gW15BKwAEN",
        "outputId": "886027c6-7c0a-4e39-d7db-111ad93fa145"
      },
      "outputs": [
        {
          "name": "stdout",
          "output_type": "stream",
          "text": [
            "Model saved as pickle to gru_sentiment_model.pkl\n"
          ]
        },
        {
          "ename": "",
          "evalue": "",
          "output_type": "error",
          "traceback": [
            "\u001b[1;31mThe Kernel crashed while executing code in the current cell or a previous cell. \n",
            "\u001b[1;31mPlease review the code in the cell(s) to identify a possible cause of the failure. \n",
            "\u001b[1;31mClick <a href='https://aka.ms/vscodeJupyterKernelCrash'>here</a> for more info. \n",
            "\u001b[1;31mView Jupyter <a href='command:jupyter.viewOutput'>log</a> for further details."
          ]
        }
      ],
      "source": [
        "import pickle\n",
        "\n",
        "def save_model_as_pickle(model, word2idx, filename='gru_sentiment_model.pkl'):\n",
        "    # Create a dictionary of everything you want to save\n",
        "    model_data = {\n",
        "        'model_state_dict': model.state_dict(),\n",
        "        'word2idx': word2idx,\n",
        "        'model_config': {\n",
        "            'vocab_size': len(word2idx),\n",
        "            'embedding_dim': model.embedding.embedding_dim,\n",
        "            'hidden_size': model.gru.hidden_size,\n",
        "            'num_layers': model.gru.num_layers,\n",
        "        }\n",
        "    }\n",
        "\n",
        "    # Save to pickle file\n",
        "    with open(filename, 'wb') as f:\n",
        "        pickle.dump(model_data, f)\n",
        "\n",
        "    print(f\"Model saved as pickle to {filename}\")\n",
        "\n",
        "# Usage\n",
        "save_model_as_pickle(model, word2idx)"
      ]
    },
    {
      "cell_type": "markdown",
      "metadata": {
        "id": "WW5sd9z-T1Xf"
      },
      "source": [
        "### Training on GRU\n"
      ]
    },
    {
      "cell_type": "markdown",
      "metadata": {
        "id": "X9hUv9Vz7Al-"
      },
      "source": [
        
      ]
    }
  ],
  "metadata": {
    "accelerator": "GPU",
    "colab": {
      "gpuType": "T4",
      "provenance": []
    },
    "kernelspec": {
      "display_name": "base",
      "language": "python",
      "name": "python3"
    },
    "language_info": {
      "codemirror_mode": {
        "name": "ipython",
        "version": 3
      },
      "file_extension": ".py",
      "mimetype": "text/x-python",
      "name": "python",
      "nbconvert_exporter": "python",
      "pygments_lexer": "ipython3",
      "version": "3.11.7"
    }
  },
  "nbformat": 4,
  "nbformat_minor": 0
}